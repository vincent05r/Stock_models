{
 "cells": [
  {
   "cell_type": "code",
   "execution_count": 1,
   "id": "9eda1dd0",
   "metadata": {},
   "outputs": [],
   "source": [
    "import tushare as ts\n",
    "import pandas as pd\n",
    "import numpy as np"
   ]
  },
  {
   "cell_type": "code",
   "execution_count": 2,
   "id": "ffdea01f",
   "metadata": {},
   "outputs": [],
   "source": [
    "pro = ts.pro_api('f75ac7a71ba8bf7118966e7fb1a0224dda2345fa0f54d1f7b010b91b')"
   ]
  },
  {
   "cell_type": "code",
   "execution_count": 3,
   "id": "969ef28c",
   "metadata": {},
   "outputs": [
    {
     "data": {
      "text/html": [
       "<div>\n",
       "<style scoped>\n",
       "    .dataframe tbody tr th:only-of-type {\n",
       "        vertical-align: middle;\n",
       "    }\n",
       "\n",
       "    .dataframe tbody tr th {\n",
       "        vertical-align: top;\n",
       "    }\n",
       "\n",
       "    .dataframe thead th {\n",
       "        text-align: right;\n",
       "    }\n",
       "</style>\n",
       "<table border=\"1\" class=\"dataframe\">\n",
       "  <thead>\n",
       "    <tr style=\"text-align: right;\">\n",
       "      <th></th>\n",
       "      <th>index_code</th>\n",
       "      <th>con_code</th>\n",
       "      <th>trade_date</th>\n",
       "      <th>weight</th>\n",
       "    </tr>\n",
       "  </thead>\n",
       "  <tbody>\n",
       "    <tr>\n",
       "      <th>0</th>\n",
       "      <td>399300.SZ</td>\n",
       "      <td>603993.SH</td>\n",
       "      <td>20161230</td>\n",
       "      <td>0.1570</td>\n",
       "    </tr>\n",
       "    <tr>\n",
       "      <th>1</th>\n",
       "      <td>399300.SZ</td>\n",
       "      <td>603885.SH</td>\n",
       "      <td>20161230</td>\n",
       "      <td>0.0650</td>\n",
       "    </tr>\n",
       "    <tr>\n",
       "      <th>2</th>\n",
       "      <td>399300.SZ</td>\n",
       "      <td>603000.SH</td>\n",
       "      <td>20161230</td>\n",
       "      <td>0.1060</td>\n",
       "    </tr>\n",
       "    <tr>\n",
       "      <th>3</th>\n",
       "      <td>399300.SZ</td>\n",
       "      <td>601998.SH</td>\n",
       "      <td>20161230</td>\n",
       "      <td>0.2130</td>\n",
       "    </tr>\n",
       "    <tr>\n",
       "      <th>4</th>\n",
       "      <td>399300.SZ</td>\n",
       "      <td>601989.SH</td>\n",
       "      <td>20161230</td>\n",
       "      <td>0.7070</td>\n",
       "    </tr>\n",
       "    <tr>\n",
       "      <th>...</th>\n",
       "      <td>...</td>\n",
       "      <td>...</td>\n",
       "      <td>...</td>\n",
       "      <td>...</td>\n",
       "    </tr>\n",
       "    <tr>\n",
       "      <th>34495</th>\n",
       "      <td>399300.SZ</td>\n",
       "      <td>000783.SZ</td>\n",
       "      <td>20220401</td>\n",
       "      <td>0.1280</td>\n",
       "    </tr>\n",
       "    <tr>\n",
       "      <th>34496</th>\n",
       "      <td>399300.SZ</td>\n",
       "      <td>000786.SZ</td>\n",
       "      <td>20220401</td>\n",
       "      <td>0.1643</td>\n",
       "    </tr>\n",
       "    <tr>\n",
       "      <th>34497</th>\n",
       "      <td>399300.SZ</td>\n",
       "      <td>000800.SZ</td>\n",
       "      <td>20220401</td>\n",
       "      <td>0.0420</td>\n",
       "    </tr>\n",
       "    <tr>\n",
       "      <th>34498</th>\n",
       "      <td>399300.SZ</td>\n",
       "      <td>000858.SZ</td>\n",
       "      <td>20220401</td>\n",
       "      <td>1.6114</td>\n",
       "    </tr>\n",
       "    <tr>\n",
       "      <th>34499</th>\n",
       "      <td>399300.SZ</td>\n",
       "      <td>000876.SZ</td>\n",
       "      <td>20220401</td>\n",
       "      <td>0.2005</td>\n",
       "    </tr>\n",
       "  </tbody>\n",
       "</table>\n",
       "<p>34500 rows × 4 columns</p>\n",
       "</div>"
      ],
      "text/plain": [
       "      index_code   con_code trade_date  weight\n",
       "0      399300.SZ  603993.SH   20161230  0.1570\n",
       "1      399300.SZ  603885.SH   20161230  0.0650\n",
       "2      399300.SZ  603000.SH   20161230  0.1060\n",
       "3      399300.SZ  601998.SH   20161230  0.2130\n",
       "4      399300.SZ  601989.SH   20161230  0.7070\n",
       "...          ...        ...        ...     ...\n",
       "34495  399300.SZ  000783.SZ   20220401  0.1280\n",
       "34496  399300.SZ  000786.SZ   20220401  0.1643\n",
       "34497  399300.SZ  000800.SZ   20220401  0.0420\n",
       "34498  399300.SZ  000858.SZ   20220401  1.6114\n",
       "34499  399300.SZ  000876.SZ   20220401  0.2005\n",
       "\n",
       "[34500 rows x 4 columns]"
      ]
     },
     "execution_count": 3,
     "metadata": {},
     "output_type": "execute_result"
    }
   ],
   "source": [
    "index16 = pro.index_weight(index_code='399300.SZ', start_date='20160101', end_date='20161231')\n",
    "index17 = pro.index_weight(index_code='399300.SZ', start_date='20170101', end_date='20171231')\n",
    "index18 = pro.index_weight(index_code='399300.SZ', start_date='20180101', end_date='20181231')\n",
    "index19 = pro.index_weight(index_code='399300.SZ', start_date='20190101', end_date='20191231')\n",
    "index20 = pro.index_weight(index_code='399300.SZ', start_date='20200101', end_date='20201231')\n",
    "index21 = pro.index_weight(index_code='399300.SZ', start_date='20210101', end_date='20211231')\n",
    "index22 = pro.index_weight(index_code='399300.SZ', start_date='20220101', end_date='20221231')\n",
    "index = pd.concat([index16, index17, index18, index19, index20, index21, index22], ignore_index=True)\n",
    "index"
   ]
  },
  {
   "cell_type": "code",
   "execution_count": 5,
   "id": "d1911710",
   "metadata": {},
   "outputs": [],
   "source": [
    "#index16"
   ]
  },
  {
   "cell_type": "code",
   "execution_count": 9,
   "id": "b303db1e",
   "metadata": {},
   "outputs": [
    {
     "data": {
      "text/plain": [
       "577"
      ]
     },
     "execution_count": 9,
     "metadata": {},
     "output_type": "execute_result"
    }
   ],
   "source": [
    "HS300_index = list(set(index['con_code']))\n",
    "len(HS300_index)\n"
   ]
  },
  {
   "cell_type": "code",
   "execution_count": 8,
   "id": "f31211c2",
   "metadata": {},
   "outputs": [],
   "source": [
    "for code in HS300_index:\n",
    "    df1 = pro.query('daily', ts_code=code, start_date='20010101', end_date='20220825')\n",
    "    df1.to_csv('stock_data/index300_01_22_day.csv', mode='a', index=False, header=False)"
   ]
  },
  {
   "cell_type": "code",
   "execution_count": 7,
   "id": "d15797df",
   "metadata": {},
   "outputs": [],
   "source": [
    "#get hs300 index\n",
    "\n",
    "df_hs300index = pro.index_daily(ts_code='399300.SZ', start_date='20050501', end_date='20221215')\n",
    "\n",
    "df_hs300index.to_csv('stock_data/hs300index_01_22_day.csv', mode='w', index=False, header=False)"
   ]
  },
  {
   "cell_type": "code",
   "execution_count": 10,
   "id": "9a4c978d",
   "metadata": {},
   "outputs": [],
   "source": [
    "#get time_mathched stocks for hs300 index test\n",
    "\n",
    "for code in HS300_index:\n",
    "    df1 = pro.query('daily', ts_code=code, start_date='20050501', end_date='20221215')\n",
    "    df1.to_csv('stock_data/index300_05_22_day.csv', mode='a', index=False, header=False)"
   ]
  },
  {
   "cell_type": "code",
   "execution_count": null,
   "id": "6c87a349",
   "metadata": {},
   "outputs": [],
   "source": []
  },
  {
   "cell_type": "code",
   "execution_count": null,
   "id": "6aca9b92",
   "metadata": {},
   "outputs": [],
   "source": []
  }
 ],
 "metadata": {
  "kernelspec": {
   "display_name": "base",
   "language": "python",
   "name": "python3"
  },
  "language_info": {
   "codemirror_mode": {
    "name": "ipython",
    "version": 3
   },
   "file_extension": ".py",
   "mimetype": "text/x-python",
   "name": "python",
   "nbconvert_exporter": "python",
   "pygments_lexer": "ipython3",
   "version": "3.9.12"
  },
  "vscode": {
   "interpreter": {
    "hash": "ad2bdc8ecc057115af97d19610ffacc2b4e99fae6737bb82f5d7fb13d2f2c186"
   }
  }
 },
 "nbformat": 4,
 "nbformat_minor": 5
}
